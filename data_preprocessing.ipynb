{
 "cells": [
  {
   "cell_type": "markdown",
   "id": "recovered-diameter",
   "metadata": {},
   "source": [
    "# Data Preprocessing\n",
    "\n",
    "This notebook performs data preprocessing on LendingClub Loan Data obtained from [Kaggle](https://www.kaggle.com/wordsforthewise/lending-club)."
   ]
  },
  {
   "cell_type": "code",
   "execution_count": 1,
   "id": "acknowledged-belfast",
   "metadata": {},
   "outputs": [],
   "source": [
    "import numpy as np\n",
    "import pandas as pd\n",
    "import re\n",
    "from tqdm import tqdm  \n",
    "from IPython.display import display\n",
    "from dateutil.parser import parse\n",
    "\n",
    "# display all columns in the dataframe\n",
    "pd.set_option('display.max_columns', None)\n",
    "\n",
    "# set format for displaying float values\n",
    "pd.options.display.float_format = '{:20,.7f}'.format"
   ]
  },
  {
   "cell_type": "code",
   "execution_count": 2,
   "id": "included-championship",
   "metadata": {},
   "outputs": [],
   "source": [
    "# load loan data\n",
    "data = pd.read_csv('data/accepted_2007_to_2018Q4.csv.gz', compression='gzip', \n",
    "                      header=0, low_memory=False)\n",
    "\n",
    "# drop the last 2 rows because they contain the total loan amount for policy 1 or 2\n",
    "data.drop(data.tail(2).index, inplace=True)"
   ]
  },
  {
   "cell_type": "markdown",
   "id": "legal-bridge",
   "metadata": {},
   "source": [
    "## Select Attributes"
   ]
  },
  {
   "cell_type": "code",
   "execution_count": 3,
   "id": "civilian-graham",
   "metadata": {},
   "outputs": [
    {
     "data": {
      "text/plain": [
       "(2260699, 16)"
      ]
     },
     "execution_count": 3,
     "metadata": {},
     "output_type": "execute_result"
    }
   ],
   "source": [
    "# select attributes to be included in the study\n",
    "selected_cols = ['loan_amnt', 'funded_amnt', 'int_rate', 'total_pymnt', 'term', 'issue_d',\n",
    "                 'last_pymnt_d', 'loan_status', 'desc', 'purpose', 'annual_inc', 'dti', \n",
    "                 'revol_bal', 'grade', 'home_ownership', 'delinq_2yrs']\n",
    "df = data[selected_cols]\n",
    "df.shape"
   ]
  },
  {
   "cell_type": "markdown",
   "id": "imposed-lounge",
   "metadata": {},
   "source": [
    "## Remove Irrelevant Examples"
   ]
  },
  {
   "cell_type": "markdown",
   "id": "blank-original",
   "metadata": {},
   "source": [
    " - Remove In-progress Loans"
   ]
  },
  {
   "cell_type": "code",
   "execution_count": 4,
   "id": "ceramic-affairs",
   "metadata": {},
   "outputs": [
    {
     "data": {
      "text/plain": [
       "(912569, 16)"
      ]
     },
     "execution_count": 4,
     "metadata": {},
     "output_type": "execute_result"
    }
   ],
   "source": [
    "# get number of loans that are not yet final\n",
    "df[df['loan_status'].isin(['Current', 'In Grace Period', 'Late (31-120 days)', 'Late (16-30 days)'])].shape"
   ]
  },
  {
   "cell_type": "code",
   "execution_count": 5,
   "id": "awful-reviewer",
   "metadata": {},
   "outputs": [
    {
     "data": {
      "text/plain": [
       "(1348130, 16)"
      ]
     },
     "execution_count": 5,
     "metadata": {},
     "output_type": "execute_result"
    }
   ],
   "source": [
    "# remove loans that are not yet final\n",
    "df = df[df['loan_status'].isin(['Current', 'In Grace Period', 'Late (31-120 days)', 'Late (16-30 days)']) == False]\n",
    "df.shape"
   ]
  },
  {
   "cell_type": "markdown",
   "id": "juvenile-ireland",
   "metadata": {},
   "source": [
    "## Missing Values\n",
    "\n",
    " - Get number of missing values for attributes selected in the study."
   ]
  },
  {
   "cell_type": "code",
   "execution_count": 6,
   "id": "least-terminal",
   "metadata": {},
   "outputs": [
    {
     "data": {
      "text/html": [
       "<div>\n",
       "<style scoped>\n",
       "    .dataframe tbody tr th:only-of-type {\n",
       "        vertical-align: middle;\n",
       "    }\n",
       "\n",
       "    .dataframe tbody tr th {\n",
       "        vertical-align: top;\n",
       "    }\n",
       "\n",
       "    .dataframe thead th {\n",
       "        text-align: right;\n",
       "    }\n",
       "</style>\n",
       "<table border=\"1\" class=\"dataframe\">\n",
       "  <thead>\n",
       "    <tr style=\"text-align: right;\">\n",
       "      <th></th>\n",
       "      <th>Attribute</th>\n",
       "      <th>Count</th>\n",
       "      <th>Percentage</th>\n",
       "    </tr>\n",
       "  </thead>\n",
       "  <tbody>\n",
       "    <tr>\n",
       "      <th>0</th>\n",
       "      <td>loan_amnt</td>\n",
       "      <td>31</td>\n",
       "      <td>0.0023000</td>\n",
       "    </tr>\n",
       "    <tr>\n",
       "      <th>1</th>\n",
       "      <td>funded_amnt</td>\n",
       "      <td>31</td>\n",
       "      <td>0.0023000</td>\n",
       "    </tr>\n",
       "    <tr>\n",
       "      <th>2</th>\n",
       "      <td>int_rate</td>\n",
       "      <td>31</td>\n",
       "      <td>0.0023000</td>\n",
       "    </tr>\n",
       "    <tr>\n",
       "      <th>3</th>\n",
       "      <td>total_pymnt</td>\n",
       "      <td>31</td>\n",
       "      <td>0.0023000</td>\n",
       "    </tr>\n",
       "    <tr>\n",
       "      <th>4</th>\n",
       "      <td>term</td>\n",
       "      <td>31</td>\n",
       "      <td>0.0023000</td>\n",
       "    </tr>\n",
       "    <tr>\n",
       "      <th>5</th>\n",
       "      <td>issue_d</td>\n",
       "      <td>31</td>\n",
       "      <td>0.0023000</td>\n",
       "    </tr>\n",
       "    <tr>\n",
       "      <th>6</th>\n",
       "      <td>last_pymnt_d</td>\n",
       "      <td>2356</td>\n",
       "      <td>0.1748000</td>\n",
       "    </tr>\n",
       "    <tr>\n",
       "      <th>7</th>\n",
       "      <td>loan_status</td>\n",
       "      <td>31</td>\n",
       "      <td>0.0023000</td>\n",
       "    </tr>\n",
       "    <tr>\n",
       "      <th>8</th>\n",
       "      <td>desc</td>\n",
       "      <td>1222175</td>\n",
       "      <td>90.6571000</td>\n",
       "    </tr>\n",
       "    <tr>\n",
       "      <th>9</th>\n",
       "      <td>purpose</td>\n",
       "      <td>31</td>\n",
       "      <td>0.0023000</td>\n",
       "    </tr>\n",
       "    <tr>\n",
       "      <th>10</th>\n",
       "      <td>annual_inc</td>\n",
       "      <td>35</td>\n",
       "      <td>0.0026000</td>\n",
       "    </tr>\n",
       "    <tr>\n",
       "      <th>11</th>\n",
       "      <td>dti</td>\n",
       "      <td>405</td>\n",
       "      <td>0.0300000</td>\n",
       "    </tr>\n",
       "    <tr>\n",
       "      <th>12</th>\n",
       "      <td>revol_bal</td>\n",
       "      <td>31</td>\n",
       "      <td>0.0023000</td>\n",
       "    </tr>\n",
       "    <tr>\n",
       "      <th>13</th>\n",
       "      <td>grade</td>\n",
       "      <td>31</td>\n",
       "      <td>0.0023000</td>\n",
       "    </tr>\n",
       "    <tr>\n",
       "      <th>14</th>\n",
       "      <td>home_ownership</td>\n",
       "      <td>31</td>\n",
       "      <td>0.0023000</td>\n",
       "    </tr>\n",
       "    <tr>\n",
       "      <th>15</th>\n",
       "      <td>delinq_2yrs</td>\n",
       "      <td>60</td>\n",
       "      <td>0.0045000</td>\n",
       "    </tr>\n",
       "  </tbody>\n",
       "</table>\n",
       "</div>"
      ],
      "text/plain": [
       "         Attribute    Count           Percentage\n",
       "0        loan_amnt       31            0.0023000\n",
       "1      funded_amnt       31            0.0023000\n",
       "2         int_rate       31            0.0023000\n",
       "3      total_pymnt       31            0.0023000\n",
       "4             term       31            0.0023000\n",
       "5          issue_d       31            0.0023000\n",
       "6     last_pymnt_d     2356            0.1748000\n",
       "7      loan_status       31            0.0023000\n",
       "8             desc  1222175           90.6571000\n",
       "9          purpose       31            0.0023000\n",
       "10      annual_inc       35            0.0026000\n",
       "11             dti      405            0.0300000\n",
       "12       revol_bal       31            0.0023000\n",
       "13           grade       31            0.0023000\n",
       "14  home_ownership       31            0.0023000\n",
       "15     delinq_2yrs       60            0.0045000"
      ]
     },
     "execution_count": 6,
     "metadata": {},
     "output_type": "execute_result"
    }
   ],
   "source": [
    "attributes = []\n",
    "counts = []\n",
    "pcts = []\n",
    "\n",
    "for col in selected_cols:\n",
    "    c = df[df[col].isnull()].shape[0]    # count number of missing values\n",
    "    attributes.append(col)\n",
    "    counts.append(c)\n",
    "    pcts.append(np.round(c*100/df.shape[0], 4))\n",
    "\n",
    "missing_vals = pd.DataFrame({'Attribute': attributes, 'Count': counts, 'Percentage': pcts})\n",
    "missing_vals"
   ]
  },
  {
   "cell_type": "markdown",
   "id": "proper-collaboration",
   "metadata": {},
   "source": [
    " - Exclude attribute \"desc\" from the study because has ~91% of missing values"
   ]
  },
  {
   "cell_type": "code",
   "execution_count": 7,
   "id": "annual-compensation",
   "metadata": {},
   "outputs": [
    {
     "data": {
      "text/plain": [
       "(1348130, 15)"
      ]
     },
     "execution_count": 7,
     "metadata": {},
     "output_type": "execute_result"
    }
   ],
   "source": [
    "selected_cols.remove('desc')\n",
    "\n",
    "# exclude attribute 'desc' from the study\n",
    "df = df[selected_cols]\n",
    "df.shape"
   ]
  },
  {
   "cell_type": "markdown",
   "id": "remarkable-refrigerator",
   "metadata": {},
   "source": [
    " - Remove examples that have missing values since there are very low percentage of missing values"
   ]
  },
  {
   "cell_type": "code",
   "execution_count": 8,
   "id": "eligible-agreement",
   "metadata": {},
   "outputs": [
    {
     "data": {
      "text/plain": [
       "(1345375, 15)"
      ]
     },
     "execution_count": 8,
     "metadata": {},
     "output_type": "execute_result"
    }
   ],
   "source": [
    "for col in selected_cols:\n",
    "    df = df[df[col].isna() == False]\n",
    "\n",
    "# shape of data frame after removing examples that have missing values\n",
    "df.shape"
   ]
  },
  {
   "cell_type": "code",
   "execution_count": 9,
   "id": "radio-teacher",
   "metadata": {},
   "outputs": [
    {
     "data": {
      "text/html": [
       "<div>\n",
       "<style scoped>\n",
       "    .dataframe tbody tr th:only-of-type {\n",
       "        vertical-align: middle;\n",
       "    }\n",
       "\n",
       "    .dataframe tbody tr th {\n",
       "        vertical-align: top;\n",
       "    }\n",
       "\n",
       "    .dataframe thead th {\n",
       "        text-align: right;\n",
       "    }\n",
       "</style>\n",
       "<table border=\"1\" class=\"dataframe\">\n",
       "  <thead>\n",
       "    <tr style=\"text-align: right;\">\n",
       "      <th></th>\n",
       "      <th>loan_amnt</th>\n",
       "      <th>funded_amnt</th>\n",
       "      <th>int_rate</th>\n",
       "      <th>total_pymnt</th>\n",
       "      <th>term</th>\n",
       "      <th>issue_d</th>\n",
       "      <th>last_pymnt_d</th>\n",
       "      <th>loan_status</th>\n",
       "      <th>purpose</th>\n",
       "      <th>annual_inc</th>\n",
       "      <th>dti</th>\n",
       "      <th>revol_bal</th>\n",
       "      <th>grade</th>\n",
       "      <th>home_ownership</th>\n",
       "      <th>delinq_2yrs</th>\n",
       "    </tr>\n",
       "  </thead>\n",
       "  <tbody>\n",
       "  </tbody>\n",
       "</table>\n",
       "</div>"
      ],
      "text/plain": [
       "Empty DataFrame\n",
       "Columns: [loan_amnt, funded_amnt, int_rate, total_pymnt, term, issue_d, last_pymnt_d, loan_status, purpose, annual_inc, dti, revol_bal, grade, home_ownership, delinq_2yrs]\n",
       "Index: []"
      ]
     },
     "execution_count": 9,
     "metadata": {},
     "output_type": "execute_result"
    }
   ],
   "source": [
    "# check if there are missing values in the data frame\n",
    "df[df.isnull().any(axis=1)]"
   ]
  },
  {
   "cell_type": "markdown",
   "id": "understood-needle",
   "metadata": {},
   "source": [
    "## Change Data Type from Object to Date"
   ]
  },
  {
   "cell_type": "code",
   "execution_count": 10,
   "id": "acceptable-approach",
   "metadata": {},
   "outputs": [],
   "source": [
    "# convert data type for date attributes from object to date\n",
    "for col in ['issue_d', 'last_pymnt_d']:\n",
    "    df[col] = pd.to_datetime(df[col], format='%b-%Y')"
   ]
  },
  {
   "cell_type": "markdown",
   "id": "southeast-horror",
   "metadata": {},
   "source": [
    "## Derived Attributes"
   ]
  },
  {
   "cell_type": "code",
   "execution_count": 11,
   "id": "specialized-inclusion",
   "metadata": {},
   "outputs": [],
   "source": [
    "# create a derived attribute, ROI = total payment - funded amount\n",
    "df['roi'] = df['total_pymnt'] - df['funded_amnt']\n",
    "selected_cols.append('roi')\n",
    "\n",
    "# create a derived attribue, months_in_loan = last payment date - loan issued date\n",
    "df['months_in_loan'] = np.round((df['last_pymnt_d'] - df['issue_d']) / np.timedelta64(1, 'M'), 0)\n",
    "selected_cols.append('months_in_loan')\n",
    "\n",
    "# change data type from float to int\n",
    "df['months_in_loan'] = df['months_in_loan'].astype(int)"
   ]
  },
  {
   "cell_type": "code",
   "execution_count": 12,
   "id": "electoral-chair",
   "metadata": {},
   "outputs": [
    {
     "data": {
      "text/plain": [
       "(1345375, 15)"
      ]
     },
     "execution_count": 12,
     "metadata": {},
     "output_type": "execute_result"
    }
   ],
   "source": [
    "# remove total_pymnt and last_pymnt_d\n",
    "for col in ['total_pymnt', 'last_pymnt_d']:\n",
    "    selected_cols.remove(col)\n",
    "\n",
    "df = df[selected_cols]\n",
    "df.shape"
   ]
  },
  {
   "cell_type": "markdown",
   "id": "historical-graphic",
   "metadata": {},
   "source": [
    "## Binary Attributes"
   ]
  },
  {
   "cell_type": "code",
   "execution_count": 13,
   "id": "accomplished-pearl",
   "metadata": {},
   "outputs": [],
   "source": [
    "# convert home_ownership to symmetric binary variable: 1 = OWN, 0 = MORTGAGE, RENT, ANY, NONE, OTHER\n",
    "df['home_ownership'] = df['home_ownership'].apply(lambda x: 1 if 'OWN' in x else 0)\n",
    "\n",
    "# convert term to symmetric binary variable: 0 = 36 months, 1 = 60 months\n",
    "df['term'] = df['term'].apply(lambda x: 1 if '60' in x else 0)"
   ]
  },
  {
   "cell_type": "markdown",
   "id": "governing-patrick",
   "metadata": {},
   "source": [
    "## Ranking Ordinal Attribute"
   ]
  },
  {
   "cell_type": "code",
   "execution_count": 14,
   "id": "referenced-click",
   "metadata": {},
   "outputs": [],
   "source": [
    "# create grade dictionary for mapping\n",
    "grades = {'A': 7, 'B': 6, 'C': 5, 'D': 4, 'E': 3, 'F': 2, 'G': 1}\n",
    "\n",
    "df['grade_rank'] = df['grade'].map(grades)\n",
    "selected_cols.append('grade_rank')"
   ]
  },
  {
   "cell_type": "code",
   "execution_count": 15,
   "id": "tribal-reserve",
   "metadata": {},
   "outputs": [],
   "source": [
    "# create loan_status dictionary for mapping\n",
    "loan_status = {'Fully Paid': 5, 'Does not meet the credit policy. Status:Fully Paid': 4,\n",
    "               'Charged Off': 3, 'Does not meet the credit policy. Status:Charged Off': 2,\n",
    "               'Default': 1}\n",
    "df['loan_status_rank'] = df['loan_status'].map(loan_status)"
   ]
  },
  {
   "cell_type": "code",
   "execution_count": 16,
   "id": "determined-cleaner",
   "metadata": {},
   "outputs": [
    {
     "data": {
      "text/plain": [
       "(1345375, 17)"
      ]
     },
     "execution_count": 16,
     "metadata": {},
     "output_type": "execute_result"
    }
   ],
   "source": [
    "df.shape"
   ]
  },
  {
   "cell_type": "markdown",
   "id": "neither-miami",
   "metadata": {},
   "source": [
    "## Create Categorical Attributes"
   ]
  },
  {
   "cell_type": "code",
   "execution_count": 17,
   "id": "dense-mailing",
   "metadata": {},
   "outputs": [],
   "source": [
    "def classifyLoan(roi):\n",
    "    '''Categorize ROI.'''\n",
    "    \n",
    "    roi_range = [0, 2000, 4000]\n",
    "    labels = ['Unprofitable', 'Low', 'Medium', 'High']\n",
    "    \n",
    "    for i, value in enumerate(roi_range):\n",
    "        if i == 0 and roi <= value:\n",
    "            # Unprofitable: ROI <= 0\n",
    "            label = labels[i]\n",
    "            break\n",
    "        elif i == len(roi_range) - 1 and roi > value:\n",
    "            # High: ROI > 4,000\n",
    "            label = labels[len(labels)-1]\n",
    "            break\n",
    "        elif roi > value and roi <= roi_range[i+1]:\n",
    "            # Low: 0 < ROI <= 2,000\n",
    "            # Medium: 2,000 < ROI <= 4,000\n",
    "            label = labels[i+1]\n",
    "            break\n",
    "    \n",
    "    return label"
   ]
  },
  {
   "cell_type": "code",
   "execution_count": 18,
   "id": "drawn-fraud",
   "metadata": {},
   "outputs": [],
   "source": [
    "# sort the data by ROI\n",
    "sorted_data = df.sort_values(by='roi').reset_index()\n",
    "sorted_data.drop(['index'], axis=1, inplace=True)\n",
    "sorted_data['loan_return'] = sorted_data['roi'].apply(classifyLoan)"
   ]
  },
  {
   "cell_type": "code",
   "execution_count": 19,
   "id": "fiscal-penguin",
   "metadata": {},
   "outputs": [
    {
     "data": {
      "text/html": [
       "<div>\n",
       "<style scoped>\n",
       "    .dataframe tbody tr th:only-of-type {\n",
       "        vertical-align: middle;\n",
       "    }\n",
       "\n",
       "    .dataframe tbody tr th {\n",
       "        vertical-align: top;\n",
       "    }\n",
       "\n",
       "    .dataframe thead th {\n",
       "        text-align: right;\n",
       "    }\n",
       "</style>\n",
       "<table border=\"1\" class=\"dataframe\">\n",
       "  <thead>\n",
       "    <tr style=\"text-align: right;\">\n",
       "      <th></th>\n",
       "      <th>loan_amnt</th>\n",
       "      <th>funded_amnt</th>\n",
       "      <th>int_rate</th>\n",
       "      <th>term</th>\n",
       "      <th>issue_d</th>\n",
       "      <th>loan_status</th>\n",
       "      <th>purpose</th>\n",
       "      <th>annual_inc</th>\n",
       "      <th>dti</th>\n",
       "      <th>revol_bal</th>\n",
       "      <th>grade</th>\n",
       "      <th>home_ownership</th>\n",
       "      <th>delinq_2yrs</th>\n",
       "      <th>roi</th>\n",
       "      <th>months_in_loan</th>\n",
       "      <th>grade_rank</th>\n",
       "      <th>loan_status_rank</th>\n",
       "      <th>loan_return</th>\n",
       "    </tr>\n",
       "  </thead>\n",
       "  <tbody>\n",
       "    <tr>\n",
       "      <th>0</th>\n",
       "      <td>40,000.0000000</td>\n",
       "      <td>40,000.0000000</td>\n",
       "      <td>9.9200000</td>\n",
       "      <td>0</td>\n",
       "      <td>2018-03-01</td>\n",
       "      <td>Charged Off</td>\n",
       "      <td>debt_consolidation</td>\n",
       "      <td>140,000.0000000</td>\n",
       "      <td>10.6700000</td>\n",
       "      <td>16,312.0000000</td>\n",
       "      <td>B</td>\n",
       "      <td>0</td>\n",
       "      <td>0.0000000</td>\n",
       "      <td>-39,970.0000000</td>\n",
       "      <td>4</td>\n",
       "      <td>6</td>\n",
       "      <td>3</td>\n",
       "      <td>Unprofitable</td>\n",
       "    </tr>\n",
       "    <tr>\n",
       "      <th>1</th>\n",
       "      <td>40,000.0000000</td>\n",
       "      <td>40,000.0000000</td>\n",
       "      <td>6.1100000</td>\n",
       "      <td>0</td>\n",
       "      <td>2018-10-01</td>\n",
       "      <td>Charged Off</td>\n",
       "      <td>credit_card</td>\n",
       "      <td>160,000.0000000</td>\n",
       "      <td>11.9000000</td>\n",
       "      <td>21,623.0000000</td>\n",
       "      <td>A</td>\n",
       "      <td>0</td>\n",
       "      <td>0.0000000</td>\n",
       "      <td>-39,800.0000000</td>\n",
       "      <td>0</td>\n",
       "      <td>7</td>\n",
       "      <td>3</td>\n",
       "      <td>Unprofitable</td>\n",
       "    </tr>\n",
       "    <tr>\n",
       "      <th>2</th>\n",
       "      <td>40,000.0000000</td>\n",
       "      <td>40,000.0000000</td>\n",
       "      <td>16.9100000</td>\n",
       "      <td>1</td>\n",
       "      <td>2018-07-01</td>\n",
       "      <td>Charged Off</td>\n",
       "      <td>debt_consolidation</td>\n",
       "      <td>111,000.0000000</td>\n",
       "      <td>18.8400000</td>\n",
       "      <td>25,834.0000000</td>\n",
       "      <td>C</td>\n",
       "      <td>0</td>\n",
       "      <td>0.0000000</td>\n",
       "      <td>-39,308.4500000</td>\n",
       "      <td>0</td>\n",
       "      <td>5</td>\n",
       "      <td>3</td>\n",
       "      <td>Unprofitable</td>\n",
       "    </tr>\n",
       "    <tr>\n",
       "      <th>3</th>\n",
       "      <td>40,000.0000000</td>\n",
       "      <td>40,000.0000000</td>\n",
       "      <td>7.3500000</td>\n",
       "      <td>1</td>\n",
       "      <td>2017-12-01</td>\n",
       "      <td>Charged Off</td>\n",
       "      <td>home_improvement</td>\n",
       "      <td>140,000.0000000</td>\n",
       "      <td>5.9500000</td>\n",
       "      <td>16,398.0000000</td>\n",
       "      <td>A</td>\n",
       "      <td>1</td>\n",
       "      <td>0.0000000</td>\n",
       "      <td>-39,217.6600000</td>\n",
       "      <td>1</td>\n",
       "      <td>7</td>\n",
       "      <td>3</td>\n",
       "      <td>Unprofitable</td>\n",
       "    </tr>\n",
       "    <tr>\n",
       "      <th>4</th>\n",
       "      <td>40,000.0000000</td>\n",
       "      <td>40,000.0000000</td>\n",
       "      <td>9.4400000</td>\n",
       "      <td>1</td>\n",
       "      <td>2017-12-01</td>\n",
       "      <td>Charged Off</td>\n",
       "      <td>other</td>\n",
       "      <td>130,922.0000000</td>\n",
       "      <td>12.5700000</td>\n",
       "      <td>209.0000000</td>\n",
       "      <td>B</td>\n",
       "      <td>0</td>\n",
       "      <td>0.0000000</td>\n",
       "      <td>-39,182.0700000</td>\n",
       "      <td>1</td>\n",
       "      <td>6</td>\n",
       "      <td>3</td>\n",
       "      <td>Unprofitable</td>\n",
       "    </tr>\n",
       "  </tbody>\n",
       "</table>\n",
       "</div>"
      ],
      "text/plain": [
       "             loan_amnt          funded_amnt             int_rate  term  \\\n",
       "0       40,000.0000000       40,000.0000000            9.9200000     0   \n",
       "1       40,000.0000000       40,000.0000000            6.1100000     0   \n",
       "2       40,000.0000000       40,000.0000000           16.9100000     1   \n",
       "3       40,000.0000000       40,000.0000000            7.3500000     1   \n",
       "4       40,000.0000000       40,000.0000000            9.4400000     1   \n",
       "\n",
       "     issue_d  loan_status             purpose           annual_inc  \\\n",
       "0 2018-03-01  Charged Off  debt_consolidation      140,000.0000000   \n",
       "1 2018-10-01  Charged Off         credit_card      160,000.0000000   \n",
       "2 2018-07-01  Charged Off  debt_consolidation      111,000.0000000   \n",
       "3 2017-12-01  Charged Off    home_improvement      140,000.0000000   \n",
       "4 2017-12-01  Charged Off               other      130,922.0000000   \n",
       "\n",
       "                   dti            revol_bal grade  home_ownership  \\\n",
       "0           10.6700000       16,312.0000000     B               0   \n",
       "1           11.9000000       21,623.0000000     A               0   \n",
       "2           18.8400000       25,834.0000000     C               0   \n",
       "3            5.9500000       16,398.0000000     A               1   \n",
       "4           12.5700000          209.0000000     B               0   \n",
       "\n",
       "           delinq_2yrs                  roi  months_in_loan  grade_rank  \\\n",
       "0            0.0000000      -39,970.0000000               4           6   \n",
       "1            0.0000000      -39,800.0000000               0           7   \n",
       "2            0.0000000      -39,308.4500000               0           5   \n",
       "3            0.0000000      -39,217.6600000               1           7   \n",
       "4            0.0000000      -39,182.0700000               1           6   \n",
       "\n",
       "   loan_status_rank   loan_return  \n",
       "0                 3  Unprofitable  \n",
       "1                 3  Unprofitable  \n",
       "2                 3  Unprofitable  \n",
       "3                 3  Unprofitable  \n",
       "4                 3  Unprofitable  "
      ]
     },
     "execution_count": 19,
     "metadata": {},
     "output_type": "execute_result"
    }
   ],
   "source": [
    "sorted_data.head()"
   ]
  },
  {
   "cell_type": "code",
   "execution_count": 20,
   "id": "danish-first",
   "metadata": {},
   "outputs": [
    {
     "data": {
      "text/plain": [
       "False"
      ]
     },
     "execution_count": 20,
     "metadata": {},
     "output_type": "execute_result"
    }
   ],
   "source": [
    "# check if loan_return has missing values\n",
    "sorted_data['loan_return'].isnull().values.any()"
   ]
  },
  {
   "cell_type": "code",
   "execution_count": 21,
   "id": "fifteen-artwork",
   "metadata": {},
   "outputs": [],
   "source": [
    "# attributes to be categorized\n",
    "cat_attrs = ['loan_amnt', 'int_rate', 'annual_inc', 'dti', 'revol_bal', 'delinq_2yrs']\n",
    "categories = [{'low': 10000, 'high': 30000, 'step': 10000},\n",
    "              {'low': 10, 'high': 20, 'step': 5},\n",
    "              {'low': 20000, 'high': 100000, 'step': 20000},\n",
    "              {'low': 5, 'high': 30, 'step': 5},\n",
    "              {'low': 5000, 'high': 20000, 'step': 5000},\n",
    "              {'low': 1, 'high': 2, 'step': 1}]\n",
    "cat_index = 0"
   ]
  },
  {
   "cell_type": "code",
   "execution_count": 22,
   "id": "other-position",
   "metadata": {},
   "outputs": [],
   "source": [
    "def classify_values(valueIn):\n",
    "    '''\n",
    "    Categorize continuous variables using low, high, and step value.\n",
    "    Low value would be categorize as \"<= low\".\n",
    "    High value would be categorize as \"> high\".\n",
    "    Increased step value would be categorized as \"(value1 to value2]\"\n",
    "    \n",
    "    Parameter:\n",
    "        valueIn: a numeric value to be categorized\n",
    "    \n",
    "    Return a category label.\n",
    "    '''\n",
    "    \n",
    "    # use global variables\n",
    "    global categories\n",
    "    global cat_index\n",
    "    \n",
    "    # get category spec\n",
    "    cats_dict = categories[cat_index]\n",
    "    \n",
    "    # generate values list\n",
    "    val_list = list(np.arange(cats_dict['low'], \n",
    "                            cats_dict['high'] + cats_dict['step'], \n",
    "                            cats_dict['step']))\n",
    "    \n",
    "    out = ''\n",
    "    for i, value in enumerate(val_list):\n",
    "        value_str = \"{:,}\".format(value)\n",
    "        if i == 0 and valueIn <= value:\n",
    "            out = '<= ' + value_str\n",
    "            break\n",
    "        elif i == len(val_list) - 1 and valueIn > value:\n",
    "            out = '> ' + value_str\n",
    "            break\n",
    "        elif valueIn > value and valueIn <= val_list[i+1]:\n",
    "            out = '(' + value_str + ' to ' + \"{:,}\".format(val_list[i+1]) + ']'\n",
    "    \n",
    "    return out"
   ]
  },
  {
   "cell_type": "code",
   "execution_count": 23,
   "id": "unknown-lending",
   "metadata": {},
   "outputs": [],
   "source": [
    "# categorize continuous variables\n",
    "for i, attr in enumerate(cat_attrs):\n",
    "    cat_index = i  # update cat_index (to be used in function classify_values)\n",
    "    sorted_data[attr + '_cat'] = sorted_data[attr].apply(classify_values)"
   ]
  },
  {
   "cell_type": "code",
   "execution_count": 24,
   "id": "italic-bahrain",
   "metadata": {},
   "outputs": [
    {
     "data": {
      "text/html": [
       "<div>\n",
       "<style scoped>\n",
       "    .dataframe tbody tr th:only-of-type {\n",
       "        vertical-align: middle;\n",
       "    }\n",
       "\n",
       "    .dataframe tbody tr th {\n",
       "        vertical-align: top;\n",
       "    }\n",
       "\n",
       "    .dataframe thead th {\n",
       "        text-align: right;\n",
       "    }\n",
       "</style>\n",
       "<table border=\"1\" class=\"dataframe\">\n",
       "  <thead>\n",
       "    <tr style=\"text-align: right;\">\n",
       "      <th></th>\n",
       "      <th>loan_amnt</th>\n",
       "      <th>funded_amnt</th>\n",
       "      <th>int_rate</th>\n",
       "      <th>term</th>\n",
       "      <th>issue_d</th>\n",
       "      <th>loan_status</th>\n",
       "      <th>purpose</th>\n",
       "      <th>annual_inc</th>\n",
       "      <th>dti</th>\n",
       "      <th>revol_bal</th>\n",
       "      <th>grade</th>\n",
       "      <th>home_ownership</th>\n",
       "      <th>delinq_2yrs</th>\n",
       "      <th>roi</th>\n",
       "      <th>months_in_loan</th>\n",
       "      <th>grade_rank</th>\n",
       "      <th>loan_status_rank</th>\n",
       "      <th>loan_return</th>\n",
       "      <th>loan_amnt_cat</th>\n",
       "      <th>int_rate_cat</th>\n",
       "      <th>annual_inc_cat</th>\n",
       "      <th>dti_cat</th>\n",
       "      <th>revol_bal_cat</th>\n",
       "      <th>delinq_2yrs_cat</th>\n",
       "    </tr>\n",
       "  </thead>\n",
       "  <tbody>\n",
       "    <tr>\n",
       "      <th>0</th>\n",
       "      <td>40,000.0000000</td>\n",
       "      <td>40,000.0000000</td>\n",
       "      <td>9.9200000</td>\n",
       "      <td>0</td>\n",
       "      <td>2018-03-01</td>\n",
       "      <td>Charged Off</td>\n",
       "      <td>debt_consolidation</td>\n",
       "      <td>140,000.0000000</td>\n",
       "      <td>10.6700000</td>\n",
       "      <td>16,312.0000000</td>\n",
       "      <td>B</td>\n",
       "      <td>0</td>\n",
       "      <td>0.0000000</td>\n",
       "      <td>-39,970.0000000</td>\n",
       "      <td>4</td>\n",
       "      <td>6</td>\n",
       "      <td>3</td>\n",
       "      <td>Unprofitable</td>\n",
       "      <td>&gt; 30,000</td>\n",
       "      <td>&lt;= 10</td>\n",
       "      <td>&gt; 100,000</td>\n",
       "      <td>(10 to 15]</td>\n",
       "      <td>(15,000 to 20,000]</td>\n",
       "      <td>&lt;= 1</td>\n",
       "    </tr>\n",
       "    <tr>\n",
       "      <th>1</th>\n",
       "      <td>40,000.0000000</td>\n",
       "      <td>40,000.0000000</td>\n",
       "      <td>6.1100000</td>\n",
       "      <td>0</td>\n",
       "      <td>2018-10-01</td>\n",
       "      <td>Charged Off</td>\n",
       "      <td>credit_card</td>\n",
       "      <td>160,000.0000000</td>\n",
       "      <td>11.9000000</td>\n",
       "      <td>21,623.0000000</td>\n",
       "      <td>A</td>\n",
       "      <td>0</td>\n",
       "      <td>0.0000000</td>\n",
       "      <td>-39,800.0000000</td>\n",
       "      <td>0</td>\n",
       "      <td>7</td>\n",
       "      <td>3</td>\n",
       "      <td>Unprofitable</td>\n",
       "      <td>&gt; 30,000</td>\n",
       "      <td>&lt;= 10</td>\n",
       "      <td>&gt; 100,000</td>\n",
       "      <td>(10 to 15]</td>\n",
       "      <td>&gt; 20,000</td>\n",
       "      <td>&lt;= 1</td>\n",
       "    </tr>\n",
       "    <tr>\n",
       "      <th>2</th>\n",
       "      <td>40,000.0000000</td>\n",
       "      <td>40,000.0000000</td>\n",
       "      <td>16.9100000</td>\n",
       "      <td>1</td>\n",
       "      <td>2018-07-01</td>\n",
       "      <td>Charged Off</td>\n",
       "      <td>debt_consolidation</td>\n",
       "      <td>111,000.0000000</td>\n",
       "      <td>18.8400000</td>\n",
       "      <td>25,834.0000000</td>\n",
       "      <td>C</td>\n",
       "      <td>0</td>\n",
       "      <td>0.0000000</td>\n",
       "      <td>-39,308.4500000</td>\n",
       "      <td>0</td>\n",
       "      <td>5</td>\n",
       "      <td>3</td>\n",
       "      <td>Unprofitable</td>\n",
       "      <td>&gt; 30,000</td>\n",
       "      <td>(15 to 20]</td>\n",
       "      <td>&gt; 100,000</td>\n",
       "      <td>(15 to 20]</td>\n",
       "      <td>&gt; 20,000</td>\n",
       "      <td>&lt;= 1</td>\n",
       "    </tr>\n",
       "    <tr>\n",
       "      <th>3</th>\n",
       "      <td>40,000.0000000</td>\n",
       "      <td>40,000.0000000</td>\n",
       "      <td>7.3500000</td>\n",
       "      <td>1</td>\n",
       "      <td>2017-12-01</td>\n",
       "      <td>Charged Off</td>\n",
       "      <td>home_improvement</td>\n",
       "      <td>140,000.0000000</td>\n",
       "      <td>5.9500000</td>\n",
       "      <td>16,398.0000000</td>\n",
       "      <td>A</td>\n",
       "      <td>1</td>\n",
       "      <td>0.0000000</td>\n",
       "      <td>-39,217.6600000</td>\n",
       "      <td>1</td>\n",
       "      <td>7</td>\n",
       "      <td>3</td>\n",
       "      <td>Unprofitable</td>\n",
       "      <td>&gt; 30,000</td>\n",
       "      <td>&lt;= 10</td>\n",
       "      <td>&gt; 100,000</td>\n",
       "      <td>(5 to 10]</td>\n",
       "      <td>(15,000 to 20,000]</td>\n",
       "      <td>&lt;= 1</td>\n",
       "    </tr>\n",
       "    <tr>\n",
       "      <th>4</th>\n",
       "      <td>40,000.0000000</td>\n",
       "      <td>40,000.0000000</td>\n",
       "      <td>9.4400000</td>\n",
       "      <td>1</td>\n",
       "      <td>2017-12-01</td>\n",
       "      <td>Charged Off</td>\n",
       "      <td>other</td>\n",
       "      <td>130,922.0000000</td>\n",
       "      <td>12.5700000</td>\n",
       "      <td>209.0000000</td>\n",
       "      <td>B</td>\n",
       "      <td>0</td>\n",
       "      <td>0.0000000</td>\n",
       "      <td>-39,182.0700000</td>\n",
       "      <td>1</td>\n",
       "      <td>6</td>\n",
       "      <td>3</td>\n",
       "      <td>Unprofitable</td>\n",
       "      <td>&gt; 30,000</td>\n",
       "      <td>&lt;= 10</td>\n",
       "      <td>&gt; 100,000</td>\n",
       "      <td>(10 to 15]</td>\n",
       "      <td>&lt;= 5,000</td>\n",
       "      <td>&lt;= 1</td>\n",
       "    </tr>\n",
       "  </tbody>\n",
       "</table>\n",
       "</div>"
      ],
      "text/plain": [
       "             loan_amnt          funded_amnt             int_rate  term  \\\n",
       "0       40,000.0000000       40,000.0000000            9.9200000     0   \n",
       "1       40,000.0000000       40,000.0000000            6.1100000     0   \n",
       "2       40,000.0000000       40,000.0000000           16.9100000     1   \n",
       "3       40,000.0000000       40,000.0000000            7.3500000     1   \n",
       "4       40,000.0000000       40,000.0000000            9.4400000     1   \n",
       "\n",
       "     issue_d  loan_status             purpose           annual_inc  \\\n",
       "0 2018-03-01  Charged Off  debt_consolidation      140,000.0000000   \n",
       "1 2018-10-01  Charged Off         credit_card      160,000.0000000   \n",
       "2 2018-07-01  Charged Off  debt_consolidation      111,000.0000000   \n",
       "3 2017-12-01  Charged Off    home_improvement      140,000.0000000   \n",
       "4 2017-12-01  Charged Off               other      130,922.0000000   \n",
       "\n",
       "                   dti            revol_bal grade  home_ownership  \\\n",
       "0           10.6700000       16,312.0000000     B               0   \n",
       "1           11.9000000       21,623.0000000     A               0   \n",
       "2           18.8400000       25,834.0000000     C               0   \n",
       "3            5.9500000       16,398.0000000     A               1   \n",
       "4           12.5700000          209.0000000     B               0   \n",
       "\n",
       "           delinq_2yrs                  roi  months_in_loan  grade_rank  \\\n",
       "0            0.0000000      -39,970.0000000               4           6   \n",
       "1            0.0000000      -39,800.0000000               0           7   \n",
       "2            0.0000000      -39,308.4500000               0           5   \n",
       "3            0.0000000      -39,217.6600000               1           7   \n",
       "4            0.0000000      -39,182.0700000               1           6   \n",
       "\n",
       "   loan_status_rank   loan_return loan_amnt_cat int_rate_cat annual_inc_cat  \\\n",
       "0                 3  Unprofitable      > 30,000        <= 10      > 100,000   \n",
       "1                 3  Unprofitable      > 30,000        <= 10      > 100,000   \n",
       "2                 3  Unprofitable      > 30,000   (15 to 20]      > 100,000   \n",
       "3                 3  Unprofitable      > 30,000        <= 10      > 100,000   \n",
       "4                 3  Unprofitable      > 30,000        <= 10      > 100,000   \n",
       "\n",
       "      dti_cat       revol_bal_cat delinq_2yrs_cat  \n",
       "0  (10 to 15]  (15,000 to 20,000]            <= 1  \n",
       "1  (10 to 15]            > 20,000            <= 1  \n",
       "2  (15 to 20]            > 20,000            <= 1  \n",
       "3   (5 to 10]  (15,000 to 20,000]            <= 1  \n",
       "4  (10 to 15]            <= 5,000            <= 1  "
      ]
     },
     "execution_count": 24,
     "metadata": {},
     "output_type": "execute_result"
    }
   ],
   "source": [
    "sorted_data.head()"
   ]
  },
  {
   "cell_type": "markdown",
   "id": "closed-sheffield",
   "metadata": {},
   "source": [
    "## Save Dataframe"
   ]
  },
  {
   "cell_type": "code",
   "execution_count": 25,
   "id": "fresh-guyana",
   "metadata": {},
   "outputs": [],
   "source": [
    "sorted_data.to_pickle('data/processed_data.pkl')"
   ]
  }
 ],
 "metadata": {
  "kernelspec": {
   "display_name": "Python 3",
   "language": "python",
   "name": "python3"
  },
  "language_info": {
   "codemirror_mode": {
    "name": "ipython",
    "version": 3
   },
   "file_extension": ".py",
   "mimetype": "text/x-python",
   "name": "python",
   "nbconvert_exporter": "python",
   "pygments_lexer": "ipython3",
   "version": "3.8.8"
  }
 },
 "nbformat": 4,
 "nbformat_minor": 5
}
